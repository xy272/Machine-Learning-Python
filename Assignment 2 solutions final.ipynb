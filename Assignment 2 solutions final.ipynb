{
 "cells": [
  {
   "cell_type": "markdown",
   "metadata": {},
   "source": [
    "# Statistics and Data Science 365/565\n",
    "## Due September, 23 11:59pm Eastern"
   ]
  },
  {
   "cell_type": "code",
   "execution_count": 1,
   "metadata": {},
   "outputs": [
    {
     "name": "stdout",
     "output_type": "stream",
     "text": [
      "abc\n",
      "xxx yyy\n"
     ]
    }
   ],
   "source": [
    "netid = \"abc\"\n",
    "name = \"xxx yyy\"\n",
    "print(netid)\n",
    "print(name)"
   ]
  },
  {
   "cell_type": "code",
   "execution_count": 2,
   "metadata": {},
   "outputs": [],
   "source": [
    "assert not netid == \"xxx\""
   ]
  },
  {
   "cell_type": "code",
   "execution_count": 3,
   "metadata": {},
   "outputs": [],
   "source": [
    "collaborators = \"\""
   ]
  },
  {
   "cell_type": "code",
   "execution_count": 1,
   "metadata": {},
   "outputs": [],
   "source": [
    "import pandas as pd\n",
    "import numpy as np\n",
    "import matplotlib.pyplot as plt"
   ]
  },
  {
   "cell_type": "markdown",
   "metadata": {},
   "source": [
    "Fill in your solutions in the notebook `Assignment 2.ipynb` and submit the results to gradescope."
   ]
  },
  {
   "cell_type": "markdown",
   "metadata": {},
   "source": [
    "Make sure that all python cells run and do not have errors."
   ]
  },
  {
   "cell_type": "markdown",
   "metadata": {},
   "source": [
    "# Problem 0: median versus mean"
   ]
  },
  {
   "cell_type": "markdown",
   "metadata": {},
   "source": [
    "Suppose that we want to estimate some unknown parameter $\\mu^*$ where we only make observations of the form $x_i = \\mu^* + w_i$ for some noise $w_i$. Suppose we have $n$ examples. Let's explore this problem across 1000 trials. We can generate the data as follows:"
   ]
  },
  {
   "cell_type": "code",
   "execution_count": 5,
   "metadata": {},
   "outputs": [],
   "source": [
    "n = 100\n",
    "TRIALS = 1000\n",
    "mustar = 1\n",
    "x = mustar + np.random.randn(n,TRIALS)"
   ]
  },
  {
   "cell_type": "markdown",
   "metadata": {},
   "source": [
    "One possible estimate is the mean"
   ]
  },
  {
   "cell_type": "code",
   "execution_count": 6,
   "metadata": {},
   "outputs": [],
   "source": [
    "muhat = np.mean(x,axis=0)"
   ]
  },
  {
   "cell_type": "markdown",
   "metadata": {},
   "source": [
    "We can check out what the average error of muhat is over all the trials"
   ]
  },
  {
   "cell_type": "code",
   "execution_count": 7,
   "metadata": {},
   "outputs": [
    {
     "data": {
      "text/plain": [
       "0.07556437280148946"
      ]
     },
     "execution_count": 7,
     "metadata": {},
     "output_type": "execute_result"
    }
   ],
   "source": [
    "np.mean(np.abs(muhat - mustar))"
   ]
  },
  {
   "cell_type": "markdown",
   "metadata": {},
   "source": [
    "However, what if we corrupt just **one** example in very bad way. For example"
   ]
  },
  {
   "cell_type": "code",
   "execution_count": 8,
   "metadata": {},
   "outputs": [],
   "source": [
    "x[0]=10000"
   ]
  },
  {
   "cell_type": "markdown",
   "metadata": {},
   "source": [
    "All we did is make the first example in every trial 10000."
   ]
  },
  {
   "cell_type": "code",
   "execution_count": 9,
   "metadata": {},
   "outputs": [],
   "source": [
    "muhat = np.mean(x,axis=0)"
   ]
  },
  {
   "cell_type": "code",
   "execution_count": 10,
   "metadata": {},
   "outputs": [
    {
     "data": {
      "text/plain": [
       "99.9904820035592"
      ]
     },
     "execution_count": 10,
     "metadata": {},
     "output_type": "execute_result"
    }
   ],
   "source": [
    "np.mean(np.abs(muhat - mustar))"
   ]
  },
  {
   "cell_type": "markdown",
   "metadata": {},
   "source": [
    "The error is suddenly pretty bad. However, we can use another estimator. The median."
   ]
  },
  {
   "cell_type": "code",
   "execution_count": 11,
   "metadata": {},
   "outputs": [],
   "source": [
    "muhatmed = np.median(x,axis=0)"
   ]
  },
  {
   "cell_type": "code",
   "execution_count": 12,
   "metadata": {},
   "outputs": [
    {
     "data": {
      "text/plain": [
       "0.09541266063426158"
      ]
     },
     "execution_count": 12,
     "metadata": {},
     "output_type": "execute_result"
    }
   ],
   "source": [
    "np.mean(np.abs(muhatmed - mustar))"
   ]
  },
  {
   "cell_type": "markdown",
   "metadata": {},
   "source": [
    "## Subproblem a)\n",
    "Plot the error of the median as a function of how many observations are corrupted."
   ]
  },
  {
   "cell_type": "code",
   "execution_count": 62,
   "metadata": {},
   "outputs": [],
   "source": [
    "n = 100\n",
    "TRIALS = 1000\n",
    "mustar = 1\n",
    "x = mustar + np.random.randn(n,TRIALS)"
   ]
  },
  {
   "cell_type": "code",
   "execution_count": 63,
   "metadata": {},
   "outputs": [],
   "source": [
    "max_corrupt=49\n",
    "num_corruptions = np.arange(0,max_corrupt+1)\n",
    "muhatmedian_error = 0.*num_corruptions"
   ]
  },
  {
   "cell_type": "code",
   "execution_count": 64,
   "metadata": {},
   "outputs": [],
   "source": [
    "for k in range(max_corrupt+1):\n",
    "    if k>0:\n",
    "        x[k-1]=1000. ##assignment broadcasting\n",
    "    muhatmedian_error[k] = np.mean(np.abs(np.median(x,axis=0) - mustar))"
   ]
  },
  {
   "cell_type": "code",
   "execution_count": 65,
   "metadata": {},
   "outputs": [
    {
     "data": {
      "text/plain": [
       "[<matplotlib.lines.Line2D at 0x7fd9e08278d0>]"
      ]
     },
     "execution_count": 65,
     "metadata": {},
     "output_type": "execute_result"
    },
    {
     "data": {
      "image/png": "[encoded data removed]",
      "text/plain": [
       "<Figure size 432x288 with 1 Axes>"
      ]
     },
     "metadata": {
      "needs_background": "light"
     },
     "output_type": "display_data"
    }
   ],
   "source": [
    "plt.plot(num_corruptions,muhatmedian_error)"
   ]
  },
  {
   "cell_type": "markdown",
   "metadata": {},
   "source": [
    "## Subproblem b)"
   ]
  },
  {
   "cell_type": "markdown",
   "metadata": {},
   "source": [
    "The median gracefully degrades in contrast to the mean. However, we notice that if the corruptions are 1/2 or more of the data, then the median also breaks down."
   ]
  },
  {
   "cell_type": "markdown",
   "metadata": {},
   "source": [
    "Note: generally you should visualize your data somehow (below we will play around with that) and remove such obvious errors. The dangerous errors are ones that are not so obvious."
   ]
  },
  {
   "cell_type": "markdown",
   "metadata": {},
   "source": [
    "# Problem 1: Implement k-nearest neighbors regression"
   ]
  },
  {
   "cell_type": "markdown",
   "metadata": {},
   "source": [
    "Please read chapter 2 from Elements of Statistical Learning for more background."
   ]
  },
  {
   "cell_type": "markdown",
   "metadata": {},
   "source": [
    "The goal of k-nearest neighbors (KNN) regression with a loss $\\ell$ is to find a function $\\widehat{f}$ that minimizes\n",
    "$$\n",
    "\\widehat{R}(f) = \\frac{1}{n} \\sum_{i=1}^n \\ell(f(x_i),y_i)\n",
    "$$"
   ]
  },
  {
   "cell_type": "markdown",
   "metadata": {},
   "source": [
    "The function that KNN provides is the function $f_K$ such that on a new query point $x$ (note that of course $x$ could also be one of the training examples) KNN provides an estimate of the corresponding label $y$ for the example $x$ by solving an optimization over the $k$ closest neighbors to $x$. The $k$ nearest neighborhood set of $x$ is the set of $k$ points in the training set that are closest to $x$ with respect to some metric $d(x,x')$. The neighborhood set of $x$ is defined as\n",
    "$$\n",
    "N_k(x) = \\{ i \\in [n] \\mid \\textrm{ $d(x,x_i)$ is one of the $k$ smallest distances from $x$} \\}\n",
    "$$\n",
    "We can then define $f_K(x)$ as\n",
    "$$\n",
    "f_K(x) = \\arg \\min_y \\sum_{i \\in N_k(x)} \\ell(y,y_i)\n",
    "$$"
   ]
  },
  {
   "cell_type": "markdown",
   "metadata": {},
   "source": [
    "If $\\ell(y,y_i) = (y-y_i)^2$ then we have already seen that the solution is\n",
    "$$\n",
    "f_K(x) = \\frac{\\sum_{i \\in N_k(x)} y_i}{k}\n",
    "$$\n",
    "That is, for the choice of loss as squared error, then KNN outputs the average label across all $k$ closest neighbors to $x$.\n",
    "\n",
    "If the loss is $|y - y_i|$, then you're exploring what the solution is in the math part."
   ]
  },
  {
   "cell_type": "markdown",
   "metadata": {},
   "source": [
    "## KNN for classification"
   ]
  },
  {
   "cell_type": "markdown",
   "metadata": {},
   "source": [
    "Suppose that $y_i \\in [k]$. That is $y_i \\in \\{0,1,2,...,k-1\\}$, so one of $k$ different categories.\n",
    "If the loss is the classification loss $\\ell(y,y_i) = \\mathbb{1}(y \\neq y_i)$, then you can show that (you don't need to show this)\n",
    "$$\n",
    "f_K(x) = \\textrm{mode}( \\{y_i \\mid i \\in N_k(x) \\} )\n",
    "$$"
   ]
  },
  {
   "cell_type": "markdown",
   "metadata": {},
   "source": [
    "Where for a set $S$ we define $\\textrm{mode}(S)$ to be the most frequently occuring element. That is $f_K(x)$ is just the majority vote of the neighbors of $x$. For binary classification with $y_i \\in \\{0,1\\}$ this takes an easy form\n",
    "$$\n",
    "f_K(x) = \\mathbb{1} \\left ( \\left [ \\frac{1}{k} \\sum_{i \\in N_k(x)} y_i \\right ] > 0.5 \\right )\n",
    "$$\n",
    "In the above we could also use $\\geq$, but we generally take $k$ to be odd to avoid any ties."
   ]
  },
  {
   "cell_type": "markdown",
   "metadata": {},
   "source": [
    "## Choice of distance\n",
    "We will take the choice of distance to be $d(x,x') = \\|x - x'\\|_2$"
   ]
  },
  {
   "cell_type": "markdown",
   "metadata": {},
   "source": [
    "## Your implementation"
   ]
  },
  {
   "cell_type": "markdown",
   "metadata": {},
   "source": [
    "You will now provide a simple implementation of KNN. Note that more sophisticated versions do a lot of pre-processing of the data to make the nearest neighbors search work very quickly. Advanced algorithms courses should cover that material. We won't."
   ]
  },
  {
   "cell_type": "code",
   "execution_count": 66,
   "metadata": {},
   "outputs": [],
   "source": [
    "def yourknn(x,X,y,k,DEBUG=False):\n",
    "    \"\"\"\n",
    "    input\n",
    "    x: set of m different d dimensional query points is np.ndarray of shape (m,d)\n",
    "    X: training data is np.ndarray of shape (n,d)\n",
    "    y: labels np.ndarry of shape (n,)\n",
    "    k: integer, number of neighbors to consider 1<=k<=n\n",
    "    Example:\n",
    "    X[0] is example 0. y[0] is the label for example 0.\n",
    "    x[0] is the first query point.\n",
    "    \n",
    "    output:\n",
    "    yhat: predicted labels. np.ndarray of shape (m,)\n",
    "    \"\"\"\n",
    "    m,d = x.shape\n",
    "    n,d1 = X.shape\n",
    "    assert(d==d1)\n",
    "    ##in the following line of code you will construct\n",
    "    ##the np.ndarray pairwisedistance of shape (m,n)\n",
    "    ##such that pairwisedistance[i,j] = np.linalg.norm(x[i]-X[j])\n",
    "    ##you must do this in one line using broadcasting\n",
    "    pairwisedistance = np.linalg.norm(x[:,None,:]-X[None,:,:],axis=2) ##your code replaces this code\n",
    "    ###You can use the following snippet of code to check your results\n",
    "    ###The if(debug) part is just so that the code doesn't run when you don't need it to\n",
    "    ###because it will slow down your code\n",
    "    if (DEBUG):\n",
    "        for i in range(m):\n",
    "            for j in range(n):\n",
    "                assert np.isclose(pairwisedistance[i,j],np.linalg.norm(x[i] - X[j]))\n",
    "    ##next you will construct a neighbors array of shape (m,k)\n",
    "    ##you must do this in one line using numpy.argsort\n",
    "    neighbors = np.argsort(pairwisedistance,axis=1)[:,:k]\n",
    "    ##in the following line you will build your prediction\n",
    "    ##again one line can do this\n",
    "    yhat = np.mean(y[neighbors],axis=1)\n",
    "    return yhat"
   ]
  },
  {
   "cell_type": "markdown",
   "metadata": {},
   "source": [
    "## Test your code"
   ]
  },
  {
   "cell_type": "code",
   "execution_count": 67,
   "metadata": {},
   "outputs": [],
   "source": [
    "n=100\n",
    "d=1\n",
    "X = np.random.randn(n,d)\n",
    "x = np.arange(-4,4,0.01)[:,None]\n",
    "y = -X[:,0]**2+2 + np.random.randn(n)"
   ]
  },
  {
   "cell_type": "code",
   "execution_count": 71,
   "metadata": {},
   "outputs": [
    {
     "data": {
      "text/plain": [
       "<matplotlib.collections.PathCollection at 0x7fd9e0f14b50>"
      ]
     },
     "execution_count": 71,
     "metadata": {},
     "output_type": "execute_result"
    },
    {
     "data": {
      "image/png": "[encoded data removed]",
      "text/plain": [
       "<Figure size 432x288 with 1 Axes>"
      ]
     },
     "metadata": {
      "needs_background": "light"
     },
     "output_type": "display_data"
    }
   ],
   "source": [
    "plt.plot(x[:,0],yourknn(x,X,y,10))\n",
    "plt.scatter(X[:,0],y)"
   ]
  },
  {
   "cell_type": "markdown",
   "metadata": {},
   "source": [
    "For $k=1$ your function should go through each of the test points."
   ]
  },
  {
   "cell_type": "markdown",
   "metadata": {},
   "source": [
    "A note about KNN is that we never really \"trained\" it. Rather, when we were given new data we find the closest representatives and predict the answer based on those closest representatives from the training set. That being said, if you were to use knn as a preliminary baseline in practice, you would run experiments on training/testing data to find the best choice of $k$."
   ]
  },
  {
   "cell_type": "markdown",
   "metadata": {},
   "source": [
    "# Problem 2: Linear regression and classification\n",
    "\n",
    "Citi Bike is a public bicycle sharing system in New York City. There are hundreds of bike stations scattered throughout the city. Customers can check out a bike at any station and return it at any other station. Citi Bike caters to both commuters and tourists. Details on this program can be found at https://www.citibikenyc.com/\n",
    "\n",
    "For this problem, you will build models to predict Citi Bike usage, in number of trips per day.\n",
    "The dataset consists of Citi Bike usage information and weather data recorded from Central Park. "
   ]
  },
  {
   "cell_type": "markdown",
   "metadata": {},
   "source": [
    "Date files: `citibike_*.csv`, `weather.csv`"
   ]
  },
  {
   "cell_type": "markdown",
   "metadata": {},
   "source": [
    "In the `citibike_*.csv` files, we see:\n",
    "\n",
    "1. date\n",
    "\n",
    "2. trips: the total number of Citi Bike trips. This is the outcome variable.\n",
    "\n",
    "3. n_stations: the total number of Citi Bike stations in service\n",
    "\n",
    "4. holiday: whether or not the day is a work holiday\n",
    "\n",
    "5. month: taken from the date variable\n",
    "\n",
    "6. dayofweek: taken from the date variable\n",
    "\n",
    "In the `weather.csv` file, we have:\n",
    "\n",
    "1. date\n",
    "\n",
    "2. PRCP: amount precipitation (i.e. rainfall amount) in inches \n",
    "\n",
    "3. SNWD: snow depth in inches\n",
    "\n",
    "4. SNOW: snowfall in inches\n",
    "\n",
    "5. TMAX: maximum temperature for the day, in degrees F\n",
    "\n",
    "6. TMIN: minimum temperature for the day, in degrees F\n",
    "\n",
    "7. AWND: average windspeed"
   ]
  },
  {
   "cell_type": "markdown",
   "metadata": {},
   "source": [
    "You are provided a training set consisting of data from 7/1/2013 to 3/31/2016, and a test set consisting of data after 4/1/2016. The weather file contains weather data for the entire year. "
   ]
  },
  {
   "cell_type": "markdown",
   "metadata": {},
   "source": [
    "## Part a: Read in and merge the data\n",
    "\n",
    "To read in the data, you can run, for example:"
   ]
  },
  {
   "cell_type": "code",
   "execution_count": 72,
   "metadata": {},
   "outputs": [],
   "source": [
    "train = pd.read_csv(\"citibike_train.csv\")\n",
    "test = pd.read_csv(\"citibike_test.csv\")"
   ]
  },
  {
   "cell_type": "code",
   "execution_count": 73,
   "metadata": {},
   "outputs": [],
   "source": [
    "weather = pd.read_csv(\"weather.csv\")"
   ]
  },
  {
   "cell_type": "markdown",
   "metadata": {},
   "source": [
    "Merge the training and test data with the weather data, by date. Once you have successfully merged the data, you may drop the \"date\" variable; we will not need it for the rest of this assignment."
   ]
  },
  {
   "cell_type": "code",
   "execution_count": 75,
   "metadata": {},
   "outputs": [],
   "source": [
    "merged_train = train.merge(weather,on='date')"
   ]
  },
  {
   "cell_type": "code",
   "execution_count": 76,
   "metadata": {},
   "outputs": [],
   "source": [
    "merged_test = test.merge(weather,on='date')"
   ]
  },
  {
   "cell_type": "markdown",
   "metadata": {},
   "source": [
    "Drop the date column here"
   ]
  },
  {
   "cell_type": "code",
   "execution_count": 77,
   "metadata": {},
   "outputs": [],
   "source": [
    "merged_train_drop = merged_train.drop('date',axis=1)"
   ]
  },
  {
   "cell_type": "code",
   "execution_count": 78,
   "metadata": {},
   "outputs": [],
   "source": [
    "merged_test_drop  = merged_test.drop('date',axis=1)"
   ]
  },
  {
   "cell_type": "markdown",
   "metadata": {},
   "source": [
    "## Part b: Visualize data"
   ]
  },
  {
   "cell_type": "markdown",
   "metadata": {},
   "source": [
    "As always, before you start any modeling, you should look at the data. Make plots of some of the numeric variables. Look for outliers and strange values. Look for missing data signified by NA. Comment on any steps you take to remove entries or otherwise process the data. Also comment on whether any predictors are strongly correlated with each other. Plot the max temperature against the min temperature. Is there a relationship? What's the correlation between each predictor (feature) against the length of trips?"
   ]
  },
  {
   "cell_type": "code",
   "execution_count": 79,
   "metadata": {},
   "outputs": [],
   "source": [
    "import matplotlib.pyplot as plt\n",
    "%matplotlib inline"
   ]
  },
  {
   "cell_type": "markdown",
   "metadata": {},
   "source": [
    "I'll start you off with using describe. See anything strange?"
   ]
  },
  {
   "cell_type": "code",
   "execution_count": 80,
   "metadata": {},
   "outputs": [
    {
     "data": {
      "text/html": [
       "<div>\n",
       "<style scoped>\n",
       "    .dataframe tbody tr th:only-of-type {\n",
       "        vertical-align: middle;\n",
       "    }\n",
       "\n",
       "    .dataframe tbody tr th {\n",
       "        vertical-align: top;\n",
       "    }\n",
       "\n",
       "    .dataframe thead th {\n",
       "        text-align: right;\n",
       "    }\n",
       "</style>\n",
       "<table border=\"1\" class=\"dataframe\">\n",
       "  <thead>\n",
       "    <tr style=\"text-align: right;\">\n",
       "      <th></th>\n",
       "      <th>trips</th>\n",
       "      <th>n_stations</th>\n",
       "      <th>PRCP</th>\n",
       "      <th>SNWD</th>\n",
       "      <th>SNOW</th>\n",
       "      <th>TMAX</th>\n",
       "      <th>TMIN</th>\n",
       "      <th>AWND</th>\n",
       "    </tr>\n",
       "  </thead>\n",
       "  <tbody>\n",
       "    <tr>\n",
       "      <th>count</th>\n",
       "      <td>183.000000</td>\n",
       "      <td>183.000000</td>\n",
       "      <td>183.000000</td>\n",
       "      <td>183.0</td>\n",
       "      <td>183.0</td>\n",
       "      <td>183.000000</td>\n",
       "      <td>183.000000</td>\n",
       "      <td>183.000000</td>\n",
       "    </tr>\n",
       "    <tr>\n",
       "      <th>mean</th>\n",
       "      <td>45204.240437</td>\n",
       "      <td>495.486339</td>\n",
       "      <td>0.107869</td>\n",
       "      <td>0.0</td>\n",
       "      <td>0.0</td>\n",
       "      <td>77.666667</td>\n",
       "      <td>61.803279</td>\n",
       "      <td>-432.785792</td>\n",
       "    </tr>\n",
       "    <tr>\n",
       "      <th>std</th>\n",
       "      <td>11389.449769</td>\n",
       "      <td>42.815584</td>\n",
       "      <td>0.246900</td>\n",
       "      <td>0.0</td>\n",
       "      <td>0.0</td>\n",
       "      <td>11.919756</td>\n",
       "      <td>11.419791</td>\n",
       "      <td>2050.954886</td>\n",
       "    </tr>\n",
       "    <tr>\n",
       "      <th>min</th>\n",
       "      <td>10697.000000</td>\n",
       "      <td>461.000000</td>\n",
       "      <td>0.000000</td>\n",
       "      <td>0.0</td>\n",
       "      <td>0.0</td>\n",
       "      <td>43.000000</td>\n",
       "      <td>26.000000</td>\n",
       "      <td>-9999.000000</td>\n",
       "    </tr>\n",
       "    <tr>\n",
       "      <th>25%</th>\n",
       "      <td>38004.000000</td>\n",
       "      <td>468.000000</td>\n",
       "      <td>0.000000</td>\n",
       "      <td>0.0</td>\n",
       "      <td>0.0</td>\n",
       "      <td>71.000000</td>\n",
       "      <td>54.000000</td>\n",
       "      <td>2.900000</td>\n",
       "    </tr>\n",
       "    <tr>\n",
       "      <th>50%</th>\n",
       "      <td>46075.000000</td>\n",
       "      <td>472.000000</td>\n",
       "      <td>0.000000</td>\n",
       "      <td>0.0</td>\n",
       "      <td>0.0</td>\n",
       "      <td>81.000000</td>\n",
       "      <td>65.000000</td>\n",
       "      <td>4.300000</td>\n",
       "    </tr>\n",
       "    <tr>\n",
       "      <th>75%</th>\n",
       "      <td>53369.000000</td>\n",
       "      <td>510.000000</td>\n",
       "      <td>0.070000</td>\n",
       "      <td>0.0</td>\n",
       "      <td>0.0</td>\n",
       "      <td>86.000000</td>\n",
       "      <td>71.000000</td>\n",
       "      <td>5.400000</td>\n",
       "    </tr>\n",
       "    <tr>\n",
       "      <th>max</th>\n",
       "      <td>67810.000000</td>\n",
       "      <td>597.000000</td>\n",
       "      <td>1.650000</td>\n",
       "      <td>0.0</td>\n",
       "      <td>0.0</td>\n",
       "      <td>96.000000</td>\n",
       "      <td>81.000000</td>\n",
       "      <td>12.800000</td>\n",
       "    </tr>\n",
       "  </tbody>\n",
       "</table>\n",
       "</div>"
      ],
      "text/plain": [
       "              trips  n_stations        PRCP   SNWD   SNOW        TMAX  \\\n",
       "count    183.000000  183.000000  183.000000  183.0  183.0  183.000000   \n",
       "mean   45204.240437  495.486339    0.107869    0.0    0.0   77.666667   \n",
       "std    11389.449769   42.815584    0.246900    0.0    0.0   11.919756   \n",
       "min    10697.000000  461.000000    0.000000    0.0    0.0   43.000000   \n",
       "25%    38004.000000  468.000000    0.000000    0.0    0.0   71.000000   \n",
       "50%    46075.000000  472.000000    0.000000    0.0    0.0   81.000000   \n",
       "75%    53369.000000  510.000000    0.070000    0.0    0.0   86.000000   \n",
       "max    67810.000000  597.000000    1.650000    0.0    0.0   96.000000   \n",
       "\n",
       "             TMIN         AWND  \n",
       "count  183.000000   183.000000  \n",
       "mean    61.803279  -432.785792  \n",
       "std     11.419791  2050.954886  \n",
       "min     26.000000 -9999.000000  \n",
       "25%     54.000000     2.900000  \n",
       "50%     65.000000     4.300000  \n",
       "75%     71.000000     5.400000  \n",
       "max     81.000000    12.800000  "
      ]
     },
     "execution_count": 80,
     "metadata": {},
     "output_type": "execute_result"
    }
   ],
   "source": [
    "merged_test.describe()"
   ]
  },
  {
   "cell_type": "code",
   "execution_count": 81,
   "metadata": {},
   "outputs": [
    {
     "data": {
      "text/html": [
       "<div>\n",
       "<style scoped>\n",
       "    .dataframe tbody tr th:only-of-type {\n",
       "        vertical-align: middle;\n",
       "    }\n",
       "\n",
       "    .dataframe tbody tr th {\n",
       "        vertical-align: top;\n",
       "    }\n",
       "\n",
       "    .dataframe thead th {\n",
       "        text-align: right;\n",
       "    }\n",
       "</style>\n",
       "<table border=\"1\" class=\"dataframe\">\n",
       "  <thead>\n",
       "    <tr style=\"text-align: right;\">\n",
       "      <th></th>\n",
       "      <th>trips</th>\n",
       "      <th>n_stations</th>\n",
       "      <th>PRCP</th>\n",
       "      <th>SNWD</th>\n",
       "      <th>SNOW</th>\n",
       "      <th>TMAX</th>\n",
       "      <th>TMIN</th>\n",
       "      <th>AWND</th>\n",
       "    </tr>\n",
       "  </thead>\n",
       "  <tbody>\n",
       "    <tr>\n",
       "      <th>count</th>\n",
       "      <td>1001.000000</td>\n",
       "      <td>1001.000000</td>\n",
       "      <td>1001.000000</td>\n",
       "      <td>1001.000000</td>\n",
       "      <td>1001.000000</td>\n",
       "      <td>1001.000000</td>\n",
       "      <td>1001.000000</td>\n",
       "      <td>1001.000000</td>\n",
       "    </tr>\n",
       "    <tr>\n",
       "      <th>mean</th>\n",
       "      <td>25021.621379</td>\n",
       "      <td>354.182817</td>\n",
       "      <td>0.119311</td>\n",
       "      <td>0.893207</td>\n",
       "      <td>0.113087</td>\n",
       "      <td>62.621379</td>\n",
       "      <td>48.121878</td>\n",
       "      <td>-24.608591</td>\n",
       "    </tr>\n",
       "    <tr>\n",
       "      <th>std</th>\n",
       "      <td>11517.483767</td>\n",
       "      <td>55.237302</td>\n",
       "      <td>0.345714</td>\n",
       "      <td>2.895540</td>\n",
       "      <td>0.755803</td>\n",
       "      <td>19.086527</td>\n",
       "      <td>18.025458</td>\n",
       "      <td>547.145313</td>\n",
       "    </tr>\n",
       "    <tr>\n",
       "      <th>min</th>\n",
       "      <td>876.000000</td>\n",
       "      <td>292.000000</td>\n",
       "      <td>0.000000</td>\n",
       "      <td>0.000000</td>\n",
       "      <td>0.000000</td>\n",
       "      <td>15.000000</td>\n",
       "      <td>-1.000000</td>\n",
       "      <td>-9999.000000</td>\n",
       "    </tr>\n",
       "    <tr>\n",
       "      <th>25%</th>\n",
       "      <td>15545.000000</td>\n",
       "      <td>324.000000</td>\n",
       "      <td>0.000000</td>\n",
       "      <td>0.000000</td>\n",
       "      <td>0.000000</td>\n",
       "      <td>46.000000</td>\n",
       "      <td>35.000000</td>\n",
       "      <td>3.800000</td>\n",
       "    </tr>\n",
       "    <tr>\n",
       "      <th>50%</th>\n",
       "      <td>26629.000000</td>\n",
       "      <td>327.000000</td>\n",
       "      <td>0.000000</td>\n",
       "      <td>0.000000</td>\n",
       "      <td>0.000000</td>\n",
       "      <td>64.000000</td>\n",
       "      <td>50.000000</td>\n",
       "      <td>4.900000</td>\n",
       "    </tr>\n",
       "    <tr>\n",
       "      <th>75%</th>\n",
       "      <td>34208.000000</td>\n",
       "      <td>331.000000</td>\n",
       "      <td>0.040000</td>\n",
       "      <td>0.000000</td>\n",
       "      <td>0.000000</td>\n",
       "      <td>80.000000</td>\n",
       "      <td>64.000000</td>\n",
       "      <td>6.700000</td>\n",
       "    </tr>\n",
       "    <tr>\n",
       "      <th>max</th>\n",
       "      <td>52706.000000</td>\n",
       "      <td>475.000000</td>\n",
       "      <td>4.970000</td>\n",
       "      <td>18.900000</td>\n",
       "      <td>11.000000</td>\n",
       "      <td>98.000000</td>\n",
       "      <td>83.000000</td>\n",
       "      <td>14.500000</td>\n",
       "    </tr>\n",
       "  </tbody>\n",
       "</table>\n",
       "</div>"
      ],
      "text/plain": [
       "              trips   n_stations         PRCP         SNWD         SNOW  \\\n",
       "count   1001.000000  1001.000000  1001.000000  1001.000000  1001.000000   \n",
       "mean   25021.621379   354.182817     0.119311     0.893207     0.113087   \n",
       "std    11517.483767    55.237302     0.345714     2.895540     0.755803   \n",
       "min      876.000000   292.000000     0.000000     0.000000     0.000000   \n",
       "25%    15545.000000   324.000000     0.000000     0.000000     0.000000   \n",
       "50%    26629.000000   327.000000     0.000000     0.000000     0.000000   \n",
       "75%    34208.000000   331.000000     0.040000     0.000000     0.000000   \n",
       "max    52706.000000   475.000000     4.970000    18.900000    11.000000   \n",
       "\n",
       "              TMAX         TMIN         AWND  \n",
       "count  1001.000000  1001.000000  1001.000000  \n",
       "mean     62.621379    48.121878   -24.608591  \n",
       "std      19.086527    18.025458   547.145313  \n",
       "min      15.000000    -1.000000 -9999.000000  \n",
       "25%      46.000000    35.000000     3.800000  \n",
       "50%      64.000000    50.000000     4.900000  \n",
       "75%      80.000000    64.000000     6.700000  \n",
       "max      98.000000    83.000000    14.500000  "
      ]
     },
     "execution_count": 81,
     "metadata": {},
     "output_type": "execute_result"
    }
   ],
   "source": [
    "merged_train.describe()"
   ]
  },
  {
   "cell_type": "markdown",
   "metadata": {},
   "source": [
    "### some observations"
   ]
  },
  {
   "cell_type": "markdown",
   "metadata": {},
   "source": [
    "The AWND column seems to have some outliers. AWND is average wind speed, which shouldn't ever be negative, let alone -9999."
   ]
  },
  {
   "cell_type": "markdown",
   "metadata": {},
   "source": [
    "#### 1. Use the pandas isna function to see if any columns have NA values."
   ]
  },
  {
   "cell_type": "code",
   "execution_count": 82,
   "metadata": {},
   "outputs": [
    {
     "data": {
      "text/plain": [
       "date          0\n",
       "trips         0\n",
       "n_stations    0\n",
       "holiday       0\n",
       "month         0\n",
       "dayofweek     0\n",
       "PRCP          0\n",
       "SNWD          0\n",
       "SNOW          0\n",
       "TMAX          0\n",
       "TMIN          0\n",
       "AWND          0\n",
       "dtype: int64"
      ]
     },
     "execution_count": 82,
     "metadata": {},
     "output_type": "execute_result"
    }
   ],
   "source": [
    "merged_train.isna().sum()"
   ]
  },
  {
   "cell_type": "code",
   "execution_count": 83,
   "metadata": {},
   "outputs": [
    {
     "data": {
      "text/plain": [
       "date          0\n",
       "trips         0\n",
       "n_stations    0\n",
       "holiday       0\n",
       "month         0\n",
       "dayofweek     0\n",
       "PRCP          0\n",
       "SNWD          0\n",
       "SNOW          0\n",
       "TMAX          0\n",
       "TMIN          0\n",
       "AWND          0\n",
       "dtype: int64"
      ]
     },
     "execution_count": 83,
     "metadata": {},
     "output_type": "execute_result"
    }
   ],
   "source": [
    "merged_test.isna().sum()"
   ]
  },
  {
   "cell_type": "markdown",
   "metadata": {},
   "source": [
    "#### 2. Below plot histograms of the columns. Anything problematic?"
   ]
  },
  {
   "cell_type": "markdown",
   "metadata": {},
   "source": [
    "Include your discussion of the plots, outliers, and other things you noticed here"
   ]
  },
  {
   "cell_type": "markdown",
   "metadata": {},
   "source": [
    "I'll start you off. Here is the histogram of the 'trips' column."
   ]
  },
  {
   "cell_type": "code",
   "execution_count": 84,
   "metadata": {},
   "outputs": [
    {
     "data": {
      "text/plain": [
       "(array([ 55., 103., 112., 108., 129., 167., 186.,  95.,  25.,  21.]),\n",
       " array([  876.,  6059., 11242., 16425., 21608., 26791., 31974., 37157.,\n",
       "        42340., 47523., 52706.]),\n",
       " <a list of 10 Patch objects>)"
      ]
     },
     "execution_count": 84,
     "metadata": {},
     "output_type": "execute_result"
    },
    {
     "data": {
      "image/png": "[encoded data removed]",
      "text/plain": [
       "<Figure size 432x288 with 1 Axes>"
      ]
     },
     "metadata": {
      "needs_background": "light"
     },
     "output_type": "display_data"
    }
   ],
   "source": [
    "plt.hist(merged_train_drop['trips'])"
   ]
  },
  {
   "cell_type": "markdown",
   "metadata": {},
   "source": [
    "Note that selecting a column in pandas works by bracket notation. (There are other ways)"
   ]
  },
  {
   "cell_type": "markdown",
   "metadata": {},
   "source": [
    "Selecting rows can be done with Boolean selection. For instance we can look at all rows with `trips>50000'"
   ]
  },
  {
   "cell_type": "code",
   "execution_count": 85,
   "metadata": {},
   "outputs": [
    {
     "data": {
      "text/plain": [
       "(7, 6)"
      ]
     },
     "execution_count": 85,
     "metadata": {},
     "output_type": "execute_result"
    }
   ],
   "source": [
    "train[train['trips']>50000].shape"
   ]
  },
  {
   "cell_type": "code",
   "execution_count": 86,
   "metadata": {},
   "outputs": [
    {
     "data": {
      "image/png": "[encoded data removed]",
      "text/plain": [
       "<Figure size 1080x1296 with 9 Axes>"
      ]
     },
     "metadata": {
      "needs_background": "light"
     },
     "output_type": "display_data"
    }
   ],
   "source": [
    "#Quantitative Variables\n",
    "quantvars = ['trips', 'n_stations', 'PRCP', 'SNWD', 'SNOW', 'TMAX', 'TMIN', 'AWND']\n",
    "\n",
    "fig, ax = plt.subplots(3,3, figsize=(15,18))\n",
    "\n",
    "for i,var in zip(np.arange(len(quantvars)), quantvars):\n",
    "    col = i%3\n",
    "    row = int(i/3)\n",
    "    ax[row,col].hist(merged_train_drop[var])\n",
    "    ax[row,col].set_xlabel(var, fontsize=18)\n",
    "    ax[row,col].tick_params('both',labelsize=16)\n",
    "    if col==0:\n",
    "        ax[row,col].set_ylabel(\"Count\", fontsize=18)\n",
    "        \n",
    "ax[2,2].axis('off')\n",
    "plt.show()"
   ]
  },
  {
   "cell_type": "markdown",
   "metadata": {},
   "source": [
    "#### 3. Below remove any examples you think warrant removing. Explain your reasoning in this markdown cell."
   ]
  },
  {
   "cell_type": "code",
   "execution_count": 87,
   "metadata": {},
   "outputs": [
    {
     "data": {
      "text/html": [
       "<div>\n",
       "<style scoped>\n",
       "    .dataframe tbody tr th:only-of-type {\n",
       "        vertical-align: middle;\n",
       "    }\n",
       "\n",
       "    .dataframe tbody tr th {\n",
       "        vertical-align: top;\n",
       "    }\n",
       "\n",
       "    .dataframe thead th {\n",
       "        text-align: right;\n",
       "    }\n",
       "</style>\n",
       "<table border=\"1\" class=\"dataframe\">\n",
       "  <thead>\n",
       "    <tr style=\"text-align: right;\">\n",
       "      <th></th>\n",
       "      <th>trips</th>\n",
       "      <th>n_stations</th>\n",
       "      <th>holiday</th>\n",
       "      <th>month</th>\n",
       "      <th>dayofweek</th>\n",
       "      <th>PRCP</th>\n",
       "      <th>SNWD</th>\n",
       "      <th>SNOW</th>\n",
       "      <th>TMAX</th>\n",
       "      <th>TMIN</th>\n",
       "      <th>AWND</th>\n",
       "    </tr>\n",
       "  </thead>\n",
       "  <tbody>\n",
       "    <tr>\n",
       "      <th>209</th>\n",
       "      <td>4980</td>\n",
       "      <td>322</td>\n",
       "      <td>False</td>\n",
       "      <td>Jan</td>\n",
       "      <td>Sun</td>\n",
       "      <td>0.00</td>\n",
       "      <td>3.9</td>\n",
       "      <td>0.0</td>\n",
       "      <td>34</td>\n",
       "      <td>17</td>\n",
       "      <td>-9999.0</td>\n",
       "    </tr>\n",
       "    <tr>\n",
       "      <th>880</th>\n",
       "      <td>15830</td>\n",
       "      <td>457</td>\n",
       "      <td>False</td>\n",
       "      <td>Nov</td>\n",
       "      <td>Sat</td>\n",
       "      <td>0.02</td>\n",
       "      <td>0.0</td>\n",
       "      <td>0.0</td>\n",
       "      <td>64</td>\n",
       "      <td>45</td>\n",
       "      <td>-9999.0</td>\n",
       "    </tr>\n",
       "    <tr>\n",
       "      <th>881</th>\n",
       "      <td>18452</td>\n",
       "      <td>456</td>\n",
       "      <td>False</td>\n",
       "      <td>Nov</td>\n",
       "      <td>Sun</td>\n",
       "      <td>0.00</td>\n",
       "      <td>0.0</td>\n",
       "      <td>0.0</td>\n",
       "      <td>49</td>\n",
       "      <td>38</td>\n",
       "      <td>-9999.0</td>\n",
       "    </tr>\n",
       "  </tbody>\n",
       "</table>\n",
       "</div>"
      ],
      "text/plain": [
       "     trips  n_stations  holiday month dayofweek  PRCP  SNWD  SNOW  TMAX  TMIN  \\\n",
       "209   4980         322    False   Jan       Sun  0.00   3.9   0.0    34    17   \n",
       "880  15830         457    False   Nov       Sat  0.02   0.0   0.0    64    45   \n",
       "881  18452         456    False   Nov       Sun  0.00   0.0   0.0    49    38   \n",
       "\n",
       "       AWND  \n",
       "209 -9999.0  \n",
       "880 -9999.0  \n",
       "881 -9999.0  "
      ]
     },
     "execution_count": 87,
     "metadata": {},
     "output_type": "execute_result"
    }
   ],
   "source": [
    "## AWND has some outliers that can be removed\n",
    "merged_train_drop.iloc[merged_train_drop.AWND.values < 0,:]"
   ]
  },
  {
   "cell_type": "code",
   "execution_count": 89,
   "metadata": {},
   "outputs": [
    {
     "data": {
      "text/html": [
       "<div>\n",
       "<style scoped>\n",
       "    .dataframe tbody tr th:only-of-type {\n",
       "        vertical-align: middle;\n",
       "    }\n",
       "\n",
       "    .dataframe tbody tr th {\n",
       "        vertical-align: top;\n",
       "    }\n",
       "\n",
       "    .dataframe thead th {\n",
       "        text-align: right;\n",
       "    }\n",
       "</style>\n",
       "<table border=\"1\" class=\"dataframe\">\n",
       "  <thead>\n",
       "    <tr style=\"text-align: right;\">\n",
       "      <th></th>\n",
       "      <th>trips</th>\n",
       "      <th>n_stations</th>\n",
       "      <th>holiday</th>\n",
       "      <th>month</th>\n",
       "      <th>dayofweek</th>\n",
       "      <th>PRCP</th>\n",
       "      <th>SNWD</th>\n",
       "      <th>SNOW</th>\n",
       "      <th>TMAX</th>\n",
       "      <th>TMIN</th>\n",
       "      <th>AWND</th>\n",
       "    </tr>\n",
       "  </thead>\n",
       "  <tbody>\n",
       "    <tr>\n",
       "      <th>34</th>\n",
       "      <td>32391</td>\n",
       "      <td>467</td>\n",
       "      <td>False</td>\n",
       "      <td>May</td>\n",
       "      <td>Fri</td>\n",
       "      <td>0.25</td>\n",
       "      <td>0.0</td>\n",
       "      <td>0.0</td>\n",
       "      <td>65</td>\n",
       "      <td>57</td>\n",
       "      <td>-9999.0</td>\n",
       "    </tr>\n",
       "    <tr>\n",
       "      <th>35</th>\n",
       "      <td>42063</td>\n",
       "      <td>464</td>\n",
       "      <td>False</td>\n",
       "      <td>May</td>\n",
       "      <td>Sat</td>\n",
       "      <td>0.00</td>\n",
       "      <td>0.0</td>\n",
       "      <td>0.0</td>\n",
       "      <td>73</td>\n",
       "      <td>56</td>\n",
       "      <td>-9999.0</td>\n",
       "    </tr>\n",
       "    <tr>\n",
       "      <th>36</th>\n",
       "      <td>28661</td>\n",
       "      <td>466</td>\n",
       "      <td>False</td>\n",
       "      <td>May</td>\n",
       "      <td>Sun</td>\n",
       "      <td>0.00</td>\n",
       "      <td>0.0</td>\n",
       "      <td>0.0</td>\n",
       "      <td>59</td>\n",
       "      <td>46</td>\n",
       "      <td>-9999.0</td>\n",
       "    </tr>\n",
       "    <tr>\n",
       "      <th>37</th>\n",
       "      <td>42787</td>\n",
       "      <td>468</td>\n",
       "      <td>False</td>\n",
       "      <td>May</td>\n",
       "      <td>Mon</td>\n",
       "      <td>0.00</td>\n",
       "      <td>0.0</td>\n",
       "      <td>0.0</td>\n",
       "      <td>66</td>\n",
       "      <td>43</td>\n",
       "      <td>-9999.0</td>\n",
       "    </tr>\n",
       "    <tr>\n",
       "      <th>39</th>\n",
       "      <td>44803</td>\n",
       "      <td>471</td>\n",
       "      <td>False</td>\n",
       "      <td>May</td>\n",
       "      <td>Wed</td>\n",
       "      <td>0.00</td>\n",
       "      <td>0.0</td>\n",
       "      <td>0.0</td>\n",
       "      <td>68</td>\n",
       "      <td>52</td>\n",
       "      <td>-9999.0</td>\n",
       "    </tr>\n",
       "    <tr>\n",
       "      <th>138</th>\n",
       "      <td>58154</td>\n",
       "      <td>536</td>\n",
       "      <td>False</td>\n",
       "      <td>Aug</td>\n",
       "      <td>Wed</td>\n",
       "      <td>0.00</td>\n",
       "      <td>0.0</td>\n",
       "      <td>0.0</td>\n",
       "      <td>88</td>\n",
       "      <td>68</td>\n",
       "      <td>-9999.0</td>\n",
       "    </tr>\n",
       "    <tr>\n",
       "      <th>139</th>\n",
       "      <td>53487</td>\n",
       "      <td>543</td>\n",
       "      <td>False</td>\n",
       "      <td>Aug</td>\n",
       "      <td>Thurs</td>\n",
       "      <td>0.01</td>\n",
       "      <td>0.0</td>\n",
       "      <td>0.0</td>\n",
       "      <td>86</td>\n",
       "      <td>69</td>\n",
       "      <td>-9999.0</td>\n",
       "    </tr>\n",
       "    <tr>\n",
       "      <th>140</th>\n",
       "      <td>52037</td>\n",
       "      <td>547</td>\n",
       "      <td>False</td>\n",
       "      <td>Aug</td>\n",
       "      <td>Fri</td>\n",
       "      <td>0.00</td>\n",
       "      <td>0.0</td>\n",
       "      <td>0.0</td>\n",
       "      <td>90</td>\n",
       "      <td>75</td>\n",
       "      <td>-9999.0</td>\n",
       "    </tr>\n",
       "  </tbody>\n",
       "</table>\n",
       "</div>"
      ],
      "text/plain": [
       "     trips  n_stations  holiday month dayofweek  PRCP  SNWD  SNOW  TMAX  TMIN  \\\n",
       "34   32391         467    False   May       Fri  0.25   0.0   0.0    65    57   \n",
       "35   42063         464    False   May       Sat  0.00   0.0   0.0    73    56   \n",
       "36   28661         466    False   May       Sun  0.00   0.0   0.0    59    46   \n",
       "37   42787         468    False   May       Mon  0.00   0.0   0.0    66    43   \n",
       "39   44803         471    False   May       Wed  0.00   0.0   0.0    68    52   \n",
       "138  58154         536    False   Aug       Wed  0.00   0.0   0.0    88    68   \n",
       "139  53487         543    False   Aug     Thurs  0.01   0.0   0.0    86    69   \n",
       "140  52037         547    False   Aug       Fri  0.00   0.0   0.0    90    75   \n",
       "\n",
       "       AWND  \n",
       "34  -9999.0  \n",
       "35  -9999.0  \n",
       "36  -9999.0  \n",
       "37  -9999.0  \n",
       "39  -9999.0  \n",
       "138 -9999.0  \n",
       "139 -9999.0  \n",
       "140 -9999.0  "
      ]
     },
     "execution_count": 89,
     "metadata": {},
     "output_type": "execute_result"
    }
   ],
   "source": [
    "merged_test_drop.iloc[merged_test_drop.AWND.values < 0,:]"
   ]
  },
  {
   "cell_type": "markdown",
   "metadata": {},
   "source": [
    "### Keep the rows that don't have such extreme outliers"
   ]
  },
  {
   "cell_type": "code",
   "execution_count": 90,
   "metadata": {},
   "outputs": [],
   "source": [
    "merged_train_drop = merged_train_drop.iloc[merged_train_drop.AWND.values >= 0,:]\n",
    "merged_test_drop = merged_test_drop.iloc[merged_test_drop.AWND.values >= 0,:]"
   ]
  },
  {
   "cell_type": "markdown",
   "metadata": {},
   "source": [
    "Check histograms again"
   ]
  },
  {
   "cell_type": "code",
   "execution_count": 91,
   "metadata": {},
   "outputs": [
    {
     "data": {
      "image/png": "[encoded data removed]",
      "text/plain": [
       "<Figure size 1080x1296 with 9 Axes>"
      ]
     },
     "metadata": {
      "needs_background": "light"
     },
     "output_type": "display_data"
    }
   ],
   "source": [
    "#Quantitative Variables\n",
    "quantvars = ['trips', 'n_stations', 'PRCP', 'SNWD', 'SNOW', 'TMAX', 'TMIN', 'AWND']\n",
    "\n",
    "fig, ax = plt.subplots(3,3, figsize=(15,18))\n",
    "\n",
    "for i,var in zip(np.arange(len(quantvars)), quantvars):\n",
    "    col = i%3\n",
    "    row = int(i/3)\n",
    "    ax[row,col].hist(merged_train_drop[var])\n",
    "    ax[row,col].set_xlabel(var, fontsize=18)\n",
    "    ax[row,col].tick_params('both',labelsize=16)\n",
    "    if col==0:\n",
    "        ax[row,col].set_ylabel(\"Count\", fontsize=18)\n",
    "        \n",
    "ax[2,2].axis('off')\n",
    "plt.show()"
   ]
  },
  {
   "cell_type": "markdown",
   "metadata": {},
   "source": [
    "## Comment\n",
    "\n",
    "For the rest of this problem, you will train your models on the training data and evaluate them on the test data."
   ]
  },
  {
   "cell_type": "markdown",
   "metadata": {},
   "source": [
    "## Part c: Linear regression\n",
    "\n",
    "Fit a linear regression model to predict the number of trips. Include all the covariates (aka, predictors, features) in the data. Print the summary of your model using the statsmodels `summary` command. "
   ]
  },
  {
   "cell_type": "code",
   "execution_count": 94,
   "metadata": {},
   "outputs": [],
   "source": [
    "import statsmodels.formula.api as smf"
   ]
  },
  {
   "cell_type": "code",
   "execution_count": 95,
   "metadata": {},
   "outputs": [],
   "source": [
    "formula = \"trips ~ \" + '+'.join(merged_train_drop.columns[1:]) + '+1'"
   ]
  },
  {
   "cell_type": "markdown",
   "metadata": {},
   "source": [
    "## Note that smf automatically deal with the categorical variables (like month)"
   ]
  },
  {
   "cell_type": "code",
   "execution_count": 96,
   "metadata": {
    "scrolled": true
   },
   "outputs": [
    {
     "data": {
      "text/html": [
       "<table class=\"simpletable\">\n",
       "<caption>OLS Regression Results</caption>\n",
       "<tr>\n",
       "  <th>Dep. Variable:</th>          <td>trips</td>      <th>  R-squared:         </th> <td>   0.877</td> \n",
       "</tr>\n",
       "<tr>\n",
       "  <th>Model:</th>                   <td>OLS</td>       <th>  Adj. R-squared:    </th> <td>   0.874</td> \n",
       "</tr>\n",
       "<tr>\n",
       "  <th>Method:</th>             <td>Least Squares</td>  <th>  F-statistic:       </th> <td>   277.6</td> \n",
       "</tr>\n",
       "<tr>\n",
       "  <th>Date:</th>             <td>Tue, 16 Feb 2021</td> <th>  Prob (F-statistic):</th>  <td>  0.00</td>  \n",
       "</tr>\n",
       "<tr>\n",
       "  <th>Time:</th>                 <td>21:08:03</td>     <th>  Log-Likelihood:    </th> <td> -9701.8</td> \n",
       "</tr>\n",
       "<tr>\n",
       "  <th>No. Observations:</th>      <td>   998</td>      <th>  AIC:               </th> <td>1.946e+04</td>\n",
       "</tr>\n",
       "<tr>\n",
       "  <th>Df Residuals:</th>          <td>   972</td>      <th>  BIC:               </th> <td>1.958e+04</td>\n",
       "</tr>\n",
       "<tr>\n",
       "  <th>Df Model:</th>              <td>    25</td>      <th>                     </th>     <td> </td>    \n",
       "</tr>\n",
       "<tr>\n",
       "  <th>Covariance Type:</th>      <td>nonrobust</td>    <th>                     </th>     <td> </td>    \n",
       "</tr>\n",
       "</table>\n",
       "<table class=\"simpletable\">\n",
       "<tr>\n",
       "           <td></td>             <th>coef</th>     <th>std err</th>      <th>t</th>      <th>P>|t|</th>  <th>[0.025</th>    <th>0.975]</th>  \n",
       "</tr>\n",
       "<tr>\n",
       "  <th>Intercept</th>          <td>-1.259e+04</td> <td> 1476.054</td> <td>   -8.529</td> <td> 0.000</td> <td>-1.55e+04</td> <td>-9692.527</td>\n",
       "</tr>\n",
       "<tr>\n",
       "  <th>holiday[T.True]</th>    <td>-1.069e+04</td> <td>  792.633</td> <td>  -13.484</td> <td> 0.000</td> <td>-1.22e+04</td> <td>-9132.082</td>\n",
       "</tr>\n",
       "<tr>\n",
       "  <th>month[T.Aug]</th>       <td> 4020.6356</td> <td>  796.919</td> <td>    5.045</td> <td> 0.000</td> <td> 2456.755</td> <td> 5584.516</td>\n",
       "</tr>\n",
       "<tr>\n",
       "  <th>month[T.Dec]</th>       <td>-3270.9909</td> <td>  749.933</td> <td>   -4.362</td> <td> 0.000</td> <td>-4742.664</td> <td>-1799.318</td>\n",
       "</tr>\n",
       "<tr>\n",
       "  <th>month[T.Feb]</th>       <td>-5578.7530</td> <td>  909.155</td> <td>   -6.136</td> <td> 0.000</td> <td>-7362.887</td> <td>-3794.619</td>\n",
       "</tr>\n",
       "<tr>\n",
       "  <th>month[T.Jan]</th>       <td>-5338.1330</td> <td>  827.200</td> <td>   -6.453</td> <td> 0.000</td> <td>-6961.437</td> <td>-3714.829</td>\n",
       "</tr>\n",
       "<tr>\n",
       "  <th>month[T.Jul]</th>       <td> 2419.9228</td> <td>  825.049</td> <td>    2.933</td> <td> 0.003</td> <td>  800.841</td> <td> 4039.005</td>\n",
       "</tr>\n",
       "<tr>\n",
       "  <th>month[T.Jun]</th>       <td> 4201.2430</td> <td>  823.687</td> <td>    5.101</td> <td> 0.000</td> <td> 2584.833</td> <td> 5817.653</td>\n",
       "</tr>\n",
       "<tr>\n",
       "  <th>month[T.Mar]</th>       <td>-3707.4829</td> <td>  749.673</td> <td>   -4.945</td> <td> 0.000</td> <td>-5178.648</td> <td>-2236.318</td>\n",
       "</tr>\n",
       "<tr>\n",
       "  <th>month[T.May]</th>       <td> 3342.0011</td> <td>  779.435</td> <td>    4.288</td> <td> 0.000</td> <td> 1812.432</td> <td> 4871.571</td>\n",
       "</tr>\n",
       "<tr>\n",
       "  <th>month[T.Nov]</th>       <td> 1643.8647</td> <td>  725.365</td> <td>    2.266</td> <td> 0.024</td> <td>  220.403</td> <td> 3067.326</td>\n",
       "</tr>\n",
       "<tr>\n",
       "  <th>month[T.Oct]</th>       <td> 6235.1369</td> <td>  707.044</td> <td>    8.819</td> <td> 0.000</td> <td> 4847.629</td> <td> 7622.645</td>\n",
       "</tr>\n",
       "<tr>\n",
       "  <th>month[T.Sep]</th>       <td> 6480.1390</td> <td>  751.764</td> <td>    8.620</td> <td> 0.000</td> <td> 5004.872</td> <td> 7955.406</td>\n",
       "</tr>\n",
       "<tr>\n",
       "  <th>dayofweek[T.Mon]</th>   <td> -711.1425</td> <td>  487.412</td> <td>   -1.459</td> <td> 0.145</td> <td>-1667.644</td> <td>  245.359</td>\n",
       "</tr>\n",
       "<tr>\n",
       "  <th>dayofweek[T.Sat]</th>   <td>-5102.2038</td> <td>  487.483</td> <td>  -10.466</td> <td> 0.000</td> <td>-6058.844</td> <td>-4145.564</td>\n",
       "</tr>\n",
       "<tr>\n",
       "  <th>dayofweek[T.Sun]</th>   <td>-6262.1045</td> <td>  489.472</td> <td>  -12.794</td> <td> 0.000</td> <td>-7222.648</td> <td>-5301.561</td>\n",
       "</tr>\n",
       "<tr>\n",
       "  <th>dayofweek[T.Thurs]</th> <td>  623.6383</td> <td>  483.343</td> <td>    1.290</td> <td> 0.197</td> <td> -324.878</td> <td> 1572.155</td>\n",
       "</tr>\n",
       "<tr>\n",
       "  <th>dayofweek[T.Tues]</th>  <td> -182.2952</td> <td>  486.709</td> <td>   -0.375</td> <td> 0.708</td> <td>-1137.417</td> <td>  772.827</td>\n",
       "</tr>\n",
       "<tr>\n",
       "  <th>dayofweek[T.Wed]</th>   <td>  818.1133</td> <td>  485.799</td> <td>    1.684</td> <td> 0.092</td> <td> -135.223</td> <td> 1771.449</td>\n",
       "</tr>\n",
       "<tr>\n",
       "  <th>n_stations</th>         <td>   69.6885</td> <td>    2.848</td> <td>   24.468</td> <td> 0.000</td> <td>   64.099</td> <td>   75.278</td>\n",
       "</tr>\n",
       "<tr>\n",
       "  <th>PRCP</th>               <td>-7937.5388</td> <td>  393.399</td> <td>  -20.177</td> <td> 0.000</td> <td>-8709.549</td> <td>-7165.529</td>\n",
       "</tr>\n",
       "<tr>\n",
       "  <th>SNWD</th>               <td> -246.0609</td> <td>   62.101</td> <td>   -3.962</td> <td> 0.000</td> <td> -367.927</td> <td> -124.194</td>\n",
       "</tr>\n",
       "<tr>\n",
       "  <th>SNOW</th>               <td>   76.3916</td> <td>  186.040</td> <td>    0.411</td> <td> 0.681</td> <td> -288.694</td> <td>  441.477</td>\n",
       "</tr>\n",
       "<tr>\n",
       "  <th>TMAX</th>               <td>  328.9044</td> <td>   29.631</td> <td>   11.100</td> <td> 0.000</td> <td>  270.756</td> <td>  387.053</td>\n",
       "</tr>\n",
       "<tr>\n",
       "  <th>TMIN</th>               <td>  -72.3142</td> <td>   32.290</td> <td>   -2.240</td> <td> 0.025</td> <td> -135.680</td> <td>   -8.948</td>\n",
       "</tr>\n",
       "<tr>\n",
       "  <th>AWND</th>               <td> -359.9903</td> <td>   68.306</td> <td>   -5.270</td> <td> 0.000</td> <td> -494.035</td> <td> -225.945</td>\n",
       "</tr>\n",
       "</table>\n",
       "<table class=\"simpletable\">\n",
       "<tr>\n",
       "  <th>Omnibus:</th>       <td>43.902</td> <th>  Durbin-Watson:     </th> <td>   1.153</td>\n",
       "</tr>\n",
       "<tr>\n",
       "  <th>Prob(Omnibus):</th> <td> 0.000</td> <th>  Jarque-Bera (JB):  </th> <td>  85.516</td>\n",
       "</tr>\n",
       "<tr>\n",
       "  <th>Skew:</th>          <td>-0.294</td> <th>  Prob(JB):          </th> <td>2.69e-19</td>\n",
       "</tr>\n",
       "<tr>\n",
       "  <th>Kurtosis:</th>      <td> 4.308</td> <th>  Cond. No.          </th> <td>5.65e+03</td>\n",
       "</tr>\n",
       "</table><br/><br/>Warnings:<br/>[1] Standard Errors assume that the covariance matrix of the errors is correctly specified.<br/>[2] The condition number is large, 5.65e+03. This might indicate that there are<br/>strong multicollinearity or other numerical problems."
      ],
      "text/plain": [
       "<class 'statsmodels.iolib.summary.Summary'>\n",
       "\"\"\"\n",
       "                            OLS Regression Results                            \n",
       "==============================================================================\n",
       "Dep. Variable:                  trips   R-squared:                       0.877\n",
       "Model:                            OLS   Adj. R-squared:                  0.874\n",
       "Method:                 Least Squares   F-statistic:                     277.6\n",
       "Date:                Tue, 16 Feb 2021   Prob (F-statistic):               0.00\n",
       "Time:                        21:08:03   Log-Likelihood:                -9701.8\n",
       "No. Observations:                 998   AIC:                         1.946e+04\n",
       "Df Residuals:                     972   BIC:                         1.958e+04\n",
       "Df Model:                          25                                         \n",
       "Covariance Type:            nonrobust                                         \n",
       "======================================================================================\n",
       "                         coef    std err          t      P>|t|      [0.025      0.975]\n",
       "--------------------------------------------------------------------------------------\n",
       "Intercept          -1.259e+04   1476.054     -8.529      0.000   -1.55e+04   -9692.527\n",
       "holiday[T.True]    -1.069e+04    792.633    -13.484      0.000   -1.22e+04   -9132.082\n",
       "month[T.Aug]        4020.6356    796.919      5.045      0.000    2456.755    5584.516\n",
       "month[T.Dec]       -3270.9909    749.933     -4.362      0.000   -4742.664   -1799.318\n",
       "month[T.Feb]       -5578.7530    909.155     -6.136      0.000   -7362.887   -3794.619\n",
       "month[T.Jan]       -5338.1330    827.200     -6.453      0.000   -6961.437   -3714.829\n",
       "month[T.Jul]        2419.9228    825.049      2.933      0.003     800.841    4039.005\n",
       "month[T.Jun]        4201.2430    823.687      5.101      0.000    2584.833    5817.653\n",
       "month[T.Mar]       -3707.4829    749.673     -4.945      0.000   -5178.648   -2236.318\n",
       "month[T.May]        3342.0011    779.435      4.288      0.000    1812.432    4871.571\n",
       "month[T.Nov]        1643.8647    725.365      2.266      0.024     220.403    3067.326\n",
       "month[T.Oct]        6235.1369    707.044      8.819      0.000    4847.629    7622.645\n",
       "month[T.Sep]        6480.1390    751.764      8.620      0.000    5004.872    7955.406\n",
       "dayofweek[T.Mon]    -711.1425    487.412     -1.459      0.145   -1667.644     245.359\n",
       "dayofweek[T.Sat]   -5102.2038    487.483    -10.466      0.000   -6058.844   -4145.564\n",
       "dayofweek[T.Sun]   -6262.1045    489.472    -12.794      0.000   -7222.648   -5301.561\n",
       "dayofweek[T.Thurs]   623.6383    483.343      1.290      0.197    -324.878    1572.155\n",
       "dayofweek[T.Tues]   -182.2952    486.709     -0.375      0.708   -1137.417     772.827\n",
       "dayofweek[T.Wed]     818.1133    485.799      1.684      0.092    -135.223    1771.449\n",
       "n_stations            69.6885      2.848     24.468      0.000      64.099      75.278\n",
       "PRCP               -7937.5388    393.399    -20.177      0.000   -8709.549   -7165.529\n",
       "SNWD                -246.0609     62.101     -3.962      0.000    -367.927    -124.194\n",
       "SNOW                  76.3916    186.040      0.411      0.681    -288.694     441.477\n",
       "TMAX                 328.9044     29.631     11.100      0.000     270.756     387.053\n",
       "TMIN                 -72.3142     32.290     -2.240      0.025    -135.680      -8.948\n",
       "AWND                -359.9903     68.306     -5.270      0.000    -494.035    -225.945\n",
       "==============================================================================\n",
       "Omnibus:                       43.902   Durbin-Watson:                   1.153\n",
       "Prob(Omnibus):                  0.000   Jarque-Bera (JB):               85.516\n",
       "Skew:                          -0.294   Prob(JB):                     2.69e-19\n",
       "Kurtosis:                       4.308   Cond. No.                     5.65e+03\n",
       "==============================================================================\n",
       "\n",
       "Warnings:\n",
       "[1] Standard Errors assume that the covariance matrix of the errors is correctly specified.\n",
       "[2] The condition number is large, 5.65e+03. This might indicate that there are\n",
       "strong multicollinearity or other numerical problems.\n",
       "\"\"\""
      ]
     },
     "execution_count": 96,
     "metadata": {},
     "output_type": "execute_result"
    }
   ],
   "source": [
    "mod = smf.ols(formula=formula, data=merged_train_drop) ##This was from the class notebook. Fill in the correct info\n",
    "##remember the string join command think about using \"+\".join(somelist) to create your formulas. You can also do it by hand.\n",
    "res = mod.fit()\n",
    "res.summary()"
   ]
  },
  {
   "cell_type": "markdown",
   "metadata": {},
   "source": [
    "Give the mean squared error (MSE) of the trained model on the training and test set."
   ]
  },
  {
   "cell_type": "code",
   "execution_count": 97,
   "metadata": {},
   "outputs": [],
   "source": [
    "tripspredict = res.predict(merged_test_drop)\n",
    "tripstrainpredict = res.predict(merged_train_drop)"
   ]
  },
  {
   "cell_type": "code",
   "execution_count": 98,
   "metadata": {},
   "outputs": [
    {
     "data": {
      "text/html": [
       "<div>\n",
       "<style scoped>\n",
       "    .dataframe tbody tr th:only-of-type {\n",
       "        vertical-align: middle;\n",
       "    }\n",
       "\n",
       "    .dataframe tbody tr th {\n",
       "        vertical-align: top;\n",
       "    }\n",
       "\n",
       "    .dataframe thead th {\n",
       "        text-align: right;\n",
       "    }\n",
       "</style>\n",
       "<table border=\"1\" class=\"dataframe\">\n",
       "  <thead>\n",
       "    <tr style=\"text-align: right;\">\n",
       "      <th></th>\n",
       "      <th>trips</th>\n",
       "      <th>n_stations</th>\n",
       "      <th>holiday</th>\n",
       "      <th>month</th>\n",
       "      <th>dayofweek</th>\n",
       "      <th>PRCP</th>\n",
       "      <th>SNWD</th>\n",
       "      <th>SNOW</th>\n",
       "      <th>TMAX</th>\n",
       "      <th>TMIN</th>\n",
       "      <th>AWND</th>\n",
       "    </tr>\n",
       "  </thead>\n",
       "  <tbody>\n",
       "    <tr>\n",
       "      <th>0</th>\n",
       "      <td>34449</td>\n",
       "      <td>476</td>\n",
       "      <td>False</td>\n",
       "      <td>Apr</td>\n",
       "      <td>Fri</td>\n",
       "      <td>0.02</td>\n",
       "      <td>0.0</td>\n",
       "      <td>0.0</td>\n",
       "      <td>79</td>\n",
       "      <td>61</td>\n",
       "      <td>6.7</td>\n",
       "    </tr>\n",
       "    <tr>\n",
       "      <th>1</th>\n",
       "      <td>23229</td>\n",
       "      <td>466</td>\n",
       "      <td>False</td>\n",
       "      <td>Apr</td>\n",
       "      <td>Sun</td>\n",
       "      <td>0.00</td>\n",
       "      <td>0.0</td>\n",
       "      <td>0.0</td>\n",
       "      <td>50</td>\n",
       "      <td>31</td>\n",
       "      <td>4.9</td>\n",
       "    </tr>\n",
       "    <tr>\n",
       "      <th>2</th>\n",
       "      <td>32048</td>\n",
       "      <td>473</td>\n",
       "      <td>False</td>\n",
       "      <td>Apr</td>\n",
       "      <td>Mon</td>\n",
       "      <td>0.01</td>\n",
       "      <td>0.0</td>\n",
       "      <td>0.0</td>\n",
       "      <td>65</td>\n",
       "      <td>43</td>\n",
       "      <td>6.9</td>\n",
       "    </tr>\n",
       "    <tr>\n",
       "      <th>3</th>\n",
       "      <td>23765</td>\n",
       "      <td>473</td>\n",
       "      <td>False</td>\n",
       "      <td>Apr</td>\n",
       "      <td>Tues</td>\n",
       "      <td>0.20</td>\n",
       "      <td>0.0</td>\n",
       "      <td>0.0</td>\n",
       "      <td>59</td>\n",
       "      <td>45</td>\n",
       "      <td>5.8</td>\n",
       "    </tr>\n",
       "    <tr>\n",
       "      <th>4</th>\n",
       "      <td>37539</td>\n",
       "      <td>472</td>\n",
       "      <td>False</td>\n",
       "      <td>Apr</td>\n",
       "      <td>Wed</td>\n",
       "      <td>0.00</td>\n",
       "      <td>0.0</td>\n",
       "      <td>0.0</td>\n",
       "      <td>58</td>\n",
       "      <td>40</td>\n",
       "      <td>4.5</td>\n",
       "    </tr>\n",
       "  </tbody>\n",
       "</table>\n",
       "</div>"
      ],
      "text/plain": [
       "   trips  n_stations  holiday month dayofweek  PRCP  SNWD  SNOW  TMAX  TMIN  \\\n",
       "0  34449         476    False   Apr       Fri  0.02   0.0   0.0    79    61   \n",
       "1  23229         466    False   Apr       Sun  0.00   0.0   0.0    50    31   \n",
       "2  32048         473    False   Apr       Mon  0.01   0.0   0.0    65    43   \n",
       "3  23765         473    False   Apr      Tues  0.20   0.0   0.0    59    45   \n",
       "4  37539         472    False   Apr       Wed  0.00   0.0   0.0    58    40   \n",
       "\n",
       "   AWND  \n",
       "0   6.7  \n",
       "1   4.9  \n",
       "2   6.9  \n",
       "3   5.8  \n",
       "4   4.5  "
      ]
     },
     "execution_count": 98,
     "metadata": {},
     "output_type": "execute_result"
    }
   ],
   "source": [
    "merged_test_drop.head()"
   ]
  },
  {
   "cell_type": "code",
   "execution_count": 102,
   "metadata": {},
   "outputs": [
    {
     "data": {
      "text/plain": [
       "47832560.53273862"
      ]
     },
     "execution_count": 102,
     "metadata": {},
     "output_type": "execute_result"
    }
   ],
   "source": [
    "##Test MSE\n",
    "(np.mean((tripspredict - merged_test_drop['trips'])**2))"
   ]
  },
  {
   "cell_type": "code",
   "execution_count": 103,
   "metadata": {},
   "outputs": [
    {
     "data": {
      "text/plain": [
       "16265864.151250264"
      ]
     },
     "execution_count": 103,
     "metadata": {},
     "output_type": "execute_result"
    }
   ],
   "source": [
    "##Train MSE\n",
    "np.mean((tripstrainpredict - merged_train_drop['trips'])**2)"
   ]
  },
  {
   "cell_type": "markdown",
   "metadata": {},
   "source": [
    "The numbers are quite big so sometimes it is useful to look at the correlation instead"
   ]
  },
  {
   "cell_type": "code",
   "execution_count": 105,
   "metadata": {},
   "outputs": [
    {
     "data": {
      "text/plain": [
       "array([[1.        , 0.86088221],\n",
       "       [0.86088221, 1.        ]])"
      ]
     },
     "execution_count": 105,
     "metadata": {},
     "output_type": "execute_result"
    }
   ],
   "source": [
    "np.corrcoef(tripspredict,merged_test_drop['trips']) ##pretty good"
   ]
  },
  {
   "cell_type": "code",
   "execution_count": 106,
   "metadata": {},
   "outputs": [
    {
     "data": {
      "text/plain": [
       "array([[1.        , 0.93655412],\n",
       "       [0.93655412, 1.        ]])"
      ]
     },
     "execution_count": 106,
     "metadata": {},
     "output_type": "execute_result"
    }
   ],
   "source": [
    "np.corrcoef(tripstrainpredict,merged_train_drop['trips']) ##pretty good"
   ]
  },
  {
   "cell_type": "markdown",
   "metadata": {},
   "source": [
    "### Can also look at Rsquared"
   ]
  },
  {
   "cell_type": "code",
   "execution_count": 108,
   "metadata": {},
   "outputs": [
    {
     "data": {
      "text/plain": [
       "0.6386903403548663"
      ]
     },
     "execution_count": 108,
     "metadata": {},
     "output_type": "execute_result"
    }
   ],
   "source": [
    "1 - np.mean((tripspredict - merged_test_drop['trips'])**2)/np.mean((np.mean(merged_train_drop['trips']) - merged_train_drop['trips'])**2)"
   ]
  },
  {
   "cell_type": "code",
   "execution_count": 109,
   "metadata": {},
   "outputs": [
    {
     "data": {
      "text/plain": [
       "0.8771336141141819"
      ]
     },
     "execution_count": 109,
     "metadata": {},
     "output_type": "execute_result"
    }
   ],
   "source": [
    "1 - np.mean((tripstrainpredict - merged_train_drop['trips'])**2)/np.mean((np.mean(merged_train_drop['trips']) - merged_train_drop['trips'])**2)"
   ]
  },
  {
   "cell_type": "markdown",
   "metadata": {},
   "source": [
    "## Part d: KNN Classification\n",
    "\n",
    "Now we will transform the outcome variable to allow us to do classification. Create a new vector $Y$ with entries:\n",
    "$$\n",
    "Y[i] = \\mathbf{1} \\{ \\textrm{trips}[i] > \\textrm{median}(\\textrm{trips}) \\}\n",
    "$$\n",
    "\n",
    "#### Part 1.\n",
    "Use the median of the variable from the full data (training and test combined). After computing\n",
    "the binary outcome variable $Y$, you should drop the original trips variable from the data."
   ]
  },
  {
   "cell_type": "code",
   "execution_count": 114,
   "metadata": {},
   "outputs": [
    {
     "data": {
      "text/plain": [
       "28869.0"
      ]
     },
     "execution_count": 114,
     "metadata": {},
     "output_type": "execute_result"
    }
   ],
   "source": [
    "np.median(pd.concat([merged_train_drop['trips'],merged_test_drop['trips']]))"
   ]
  },
  {
   "cell_type": "code",
   "execution_count": 117,
   "metadata": {},
   "outputs": [
    {
     "data": {
      "text/plain": [
       "28869.0"
      ]
     },
     "execution_count": 117,
     "metadata": {},
     "output_type": "execute_result"
    }
   ],
   "source": [
    "np.median(np.r_[merged_train_drop['trips'].values,merged_test_drop['trips']])"
   ]
  },
  {
   "cell_type": "code",
   "execution_count": 154,
   "metadata": {},
   "outputs": [],
   "source": [
    "fullmedian = np.median(pd.concat([merged_train_drop['trips'],merged_test_drop['trips']]))\n",
    "ytrain = (merged_train_drop['trips'] > fullmedian)\n",
    "ytest = (merged_test_drop['trips'] > fullmedian)"
   ]
  },
  {
   "cell_type": "markdown",
   "metadata": {},
   "source": [
    "#### Part 2.\n",
    "\n",
    "Drop the original trips column from the train and test set\n",
    "\n",
    "Add the above constructed y vector to the respective train and test set"
   ]
  },
  {
   "cell_type": "code",
   "execution_count": 156,
   "metadata": {},
   "outputs": [],
   "source": [
    "new_train_set = merged_train_drop.drop('trips',axis=1)\n",
    "new_test_set = merged_test_drop.drop('trips',axis=1)\n",
    "new_train_set[\"tripsind\"] = ytrain\n",
    "new_test_set[\"tripsind\"] = ytest"
   ]
  },
  {
   "cell_type": "markdown",
   "metadata": {},
   "source": [
    "#### Part 3."
   ]
  },
  {
   "cell_type": "markdown",
   "metadata": {},
   "source": [
    "Recall that in $k$-nearest neighbors classification, the predicted value $\\hat Y$ of $X$ is \n",
    "the majority vote of the labels for the $k$ nearest neighbors $X_i$ to $X$. We will use the Euclidean distance as our measure of distance between points. Note that the Euclidean distance doesn't make much sense for factor variables, so just drop the predictors that are categorical for this problem."
   ]
  },
  {
   "cell_type": "code",
   "execution_count": 157,
   "metadata": {},
   "outputs": [],
   "source": [
    "newquantvars = ['tripsind', 'n_stations', 'PRCP', 'SNWD', 'SNOW', 'TMAX', 'TMIN', 'AWND']"
   ]
  },
  {
   "cell_type": "code",
   "execution_count": 158,
   "metadata": {},
   "outputs": [],
   "source": [
    "new_train_set_drop = new_train_set[newquantvars]\n",
    "new_test_set_drop = new_test_set[newquantvars]"
   ]
  },
  {
   "cell_type": "markdown",
   "metadata": {},
   "source": [
    "#### Part 4."
   ]
  },
  {
   "cell_type": "markdown",
   "metadata": {},
   "source": [
    "Standardize the numeric predictors so that they have mean zero and constant standard deviation. Do this using the following steps."
   ]
  },
  {
   "cell_type": "markdown",
   "metadata": {},
   "source": [
    "Compute the mean and standard deviation of each column of `new_train_set` "
   ]
  },
  {
   "cell_type": "code",
   "execution_count": 159,
   "metadata": {},
   "outputs": [],
   "source": [
    "m = new_train_set_drop.mean()\n",
    "s = new_train_set_drop.std()"
   ]
  },
  {
   "cell_type": "markdown",
   "metadata": {},
   "source": [
    "Subtract the mean `m` from each column of the training and test set. For example, from every element of the column `new_train_set['AWND']` subtract `m['AWND']`. This operation can be done using broadcasting."
   ]
  },
  {
   "cell_type": "code",
   "execution_count": 160,
   "metadata": {},
   "outputs": [],
   "source": [
    "standard_train = new_train_set_drop - m\n",
    "standard_test = new_test_set_drop - m"
   ]
  },
  {
   "cell_type": "markdown",
   "metadata": {},
   "source": [
    "Divide each column of the training and test set with `s`. For example, divid every element in the column standard_train['AWND'] by s['AWND']. This operation can be done using broadcasting."
   ]
  },
  {
   "cell_type": "code",
   "execution_count": 161,
   "metadata": {},
   "outputs": [],
   "source": [
    "standard_train = standard_train/s #something here, one line of code\n",
    "standard_test = standard_test/s #something here, one line of code"
   ]
  },
  {
   "cell_type": "markdown",
   "metadata": {},
   "source": [
    "#### Question about standardization"
   ]
  },
  {
   "cell_type": "markdown",
   "metadata": {},
   "source": [
    "When the variation between column is very different, we often standardize columns so that the statistics are similar. The above approach is one method. Another is to just ensure that the columns are all bounded between the same values. For linear regression this doesn't theoretically matter, but can help numerically. In nearest neighbors this matters a lot. Why?"
   ]
  },
  {
   "cell_type": "markdown",
   "metadata": {},
   "source": [
    "If one variable is on the scale of billions while another is on the scaled of tens, then the one that is on the scale of billions probably contributes more to the error. Thus, our nearest neighbors will bias towards examples that are close in the billions scale feature and ignore the others. Standardizing helps put every feature on the same footing when computing the distanes."
   ]
  },
  {
   "cell_type": "markdown",
   "metadata": {},
   "source": [
    "#### Part 5 Training and testing\n",
    "Use the sklearn neighbors library to perform $k$-nearest neighbor classification. Fit a classifier for $k = 1:50$, and find the mis-classification rate on both the training and test sets for each $k$. On a single plot, show the training set error and the test set error as a function of $k$. How would you choose the optimal $k$? Comment on your findings, and in particular on the possibility of overfitting."
   ]
  },
  {
   "cell_type": "code",
   "execution_count": 163,
   "metadata": {},
   "outputs": [],
   "source": [
    "?? neigh.fit"
   ]
  },
  {
   "cell_type": "code",
   "execution_count": 165,
   "metadata": {},
   "outputs": [],
   "source": [
    "from sklearn.neighbors import KNeighborsClassifier as knn\n",
    "\n",
    "X_train = standard_train.drop('tripsind', axis=1)\n",
    "X_test = standard_test.drop('tripsind', axis=1)\n",
    "\n",
    "train_rate = []\n",
    "test_rate = []\n",
    "ks = np.arange(1,51)\n",
    "for k in ks:\n",
    "    neigh = knn(n_neighbors=k)\n",
    "    mdl = neigh.fit(X_train, ytrain)\n",
    "    train_rate.append(len(np.where(mdl.predict(X_train) != ytrain)[0])/standard_train.shape[0])\n",
    "    test_rate.append(len(np.where(mdl.predict(X_test) != ytest)[0])/standard_test.shape[0])"
   ]
  },
  {
   "cell_type": "code",
   "execution_count": 166,
   "metadata": {},
   "outputs": [
    {
     "data": {
      "image/png": "[encoded data removed]",
      "text/plain": [
       "<Figure size 432x288 with 1 Axes>"
      ]
     },
     "metadata": {
      "needs_background": "light"
     },
     "output_type": "display_data"
    }
   ],
   "source": [
    "plt.scatter(ks, train_rate, label='Train')\n",
    "plt.scatter(ks, test_rate, label='Test')\n",
    "\n",
    "plt.ylabel(\"Misclass. Rate\", fontsize=16)\n",
    "plt.xlabel(\"K\", fontsize=16)\n",
    "plt.legend(loc='best')\n",
    "plt.show()"
   ]
  },
  {
   "cell_type": "markdown",
   "metadata": {},
   "source": [
    "#### Your discussion here: You'll notice something a bit strange about the test set versus the training set and the errors. What do you think that is?"
   ]
  },
  {
   "cell_type": "code",
   "execution_count": 174,
   "metadata": {},
   "outputs": [
    {
     "data": {
      "text/plain": [
       "May    31\n",
       "Jul    31\n",
       "Aug    31\n",
       "Apr    30\n",
       "Sep    30\n",
       "Jun    30\n",
       "Name: month, dtype: int64"
      ]
     },
     "execution_count": 174,
     "metadata": {},
     "output_type": "execute_result"
    }
   ],
   "source": [
    "merged_test['month'].value_counts()"
   ]
  },
  {
   "cell_type": "code",
   "execution_count": 177,
   "metadata": {},
   "outputs": [
    {
     "data": {
      "text/plain": [
       "<matplotlib.axes._subplots.AxesSubplot at 0x7fd9cd3e6990>"
      ]
     },
     "execution_count": 177,
     "metadata": {},
     "output_type": "execute_result"
    },
    {
     "data": {
      "image/png": "[encoded data removed]",
      "text/plain": [
       "<Figure size 432x288 with 1 Axes>"
      ]
     },
     "metadata": {
      "needs_background": "light"
     },
     "output_type": "display_data"
    }
   ],
   "source": [
    "merged_train['trips'].hist()"
   ]
  },
  {
   "cell_type": "code",
   "execution_count": 178,
   "metadata": {},
   "outputs": [
    {
     "data": {
      "text/plain": [
       "28869.0"
      ]
     },
     "execution_count": 178,
     "metadata": {},
     "output_type": "execute_result"
    }
   ],
   "source": [
    "fullmedian"
   ]
  },
  {
   "cell_type": "code",
   "execution_count": 176,
   "metadata": {},
   "outputs": [
    {
     "data": {
      "text/plain": [
       "<matplotlib.axes._subplots.AxesSubplot at 0x7fd9cbbfb350>"
      ]
     },
     "execution_count": 176,
     "metadata": {},
     "output_type": "execute_result"
    },
    {
     "data": {
      "image/png": "[encoded data removed]",
      "text/plain": [
       "<Figure size 432x288 with 1 Axes>"
      ]
     },
     "metadata": {
      "needs_background": "light"
     },
     "output_type": "display_data"
    }
   ],
   "source": [
    "merged_test['trips'].hist()"
   ]
  },
  {
   "cell_type": "markdown",
   "metadata": {},
   "source": [
    "Interestingly, the test error performs better than the training. This is likely due to the fact the test set is during easier months and the training set includes many more seasons. Namely, during most of the time in the test test the trips are greater than the full_median."
   ]
  },
  {
   "cell_type": "code",
   "execution_count": 179,
   "metadata": {},
   "outputs": [
    {
     "data": {
      "text/plain": [
       "0.92"
      ]
     },
     "execution_count": 179,
     "metadata": {},
     "output_type": "execute_result"
    }
   ],
   "source": [
    "ytest.mean()"
   ]
  },
  {
   "cell_type": "code",
   "execution_count": 180,
   "metadata": {},
   "outputs": [
    {
     "data": {
      "text/plain": [
       "0.4258517034068136"
      ]
     },
     "execution_count": 180,
     "metadata": {},
     "output_type": "execute_result"
    }
   ],
   "source": [
    "ytrain.mean()"
   ]
  },
  {
   "cell_type": "code",
   "execution_count": null,
   "metadata": {},
   "outputs": [],
   "source": []
  }
 ],
 "metadata": {
  "kernelspec": {
   "display_name": "Python 3",
   "language": "python",
   "name": "python3"
  },
  "language_info": {
   "codemirror_mode": {
    "name": "ipython",
    "version": 3
   },
   "file_extension": ".py",
   "mimetype": "text/x-python",
   "name": "python",
   "nbconvert_exporter": "python",
   "pygments_lexer": "ipython3",
   "version": "3.8.5"
  }
 },
 "nbformat": 4,
 "nbformat_minor": 2
}
